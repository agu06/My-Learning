{
  "nbformat": 4,
  "nbformat_minor": 0,
  "metadata": {
    "colab": {
      "provenance": [],
      "authorship_tag": "ABX9TyPJZdBSFASWrc2Kcx8lfbZ+",
      "include_colab_link": true
    },
    "kernelspec": {
      "name": "python3",
      "display_name": "Python 3"
    },
    "language_info": {
      "name": "python"
    }
  },
  "cells": [
    {
      "cell_type": "markdown",
      "metadata": {
        "id": "view-in-github",
        "colab_type": "text"
      },
      "source": [
        "<a href=\"https://colab.research.google.com/github/agu06/My-Learning/blob/main/My_Learning.ipynb\" target=\"_parent\"><img src=\"https://colab.research.google.com/assets/colab-badge.svg\" alt=\"Open In Colab\"/></a>"
      ]
    },
    {
      "cell_type": "code",
      "execution_count": null,
      "metadata": {
        "id": "oi_8h0mLM81Y"
      },
      "outputs": [],
      "source": [
        "#Creating a dictionary in python\n",
        "data = {\n",
        "    'Brand':['Acura','Mercedeez','Volvo'],\n",
        "    'Price':['3000','6000','4000']\n",
        "}"
      ]
    },
    {
      "cell_type": "code",
      "source": [
        "print(f\"The brand is {data['Brand'][1]} and the price is {data['Price'][1]}\")"
      ],
      "metadata": {
        "id": "jscO-99v9AFM",
        "colab": {
          "base_uri": "https://localhost:8080/"
        },
        "outputId": "a451f5d8-ecdc-4364-e123-87f6644c836c"
      },
      "execution_count": null,
      "outputs": [
        {
          "output_type": "stream",
          "name": "stdout",
          "text": [
            "The brand is Mercedeez and the price is 6000\n"
          ]
        }
      ]
    }
  ]
}